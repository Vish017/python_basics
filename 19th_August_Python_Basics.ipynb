{
 "cells": [
  {
   "cell_type": "code",
   "execution_count": null,
   "id": "790e3441-9911-45a5-9627-e8e1e5e5980c",
   "metadata": {},
   "outputs": [],
   "source": []
  },
  {
   "cell_type": "code",
   "execution_count": 2,
   "id": "ab62b75c-2d76-4b7a-a78c-9242ae30ca0b",
   "metadata": {},
   "outputs": [],
   "source": [
    "#1. Declare two variables, `x` and `y`, and assign them integer values. Swap the values of these variables without using any temporary variable"
   ]
  },
  {
   "cell_type": "code",
   "execution_count": 26,
   "id": "1a5652bd-8374-45f1-a74b-93d3943f6258",
   "metadata": {},
   "outputs": [],
   "source": [
    "x = 23        #declaring the variables\n",
    "y = 8\n",
    "\n",
    "def swap_variable(x,y):\n",
    "    print(f\"before swap x: {x} and y: {y}\")\n",
    "    x,y = y, x\n",
    "    print(f\"after swap x: {x} and y: {y}\")\n",
    "          \n",
    "\n"
   ]
  },
  {
   "cell_type": "code",
   "execution_count": 27,
   "id": "48f66af6-4a09-4b3d-8b3d-9a9f95947c40",
   "metadata": {},
   "outputs": [
    {
     "name": "stdout",
     "output_type": "stream",
     "text": [
      "before swap x: 23 and y: 8\n",
      "after swap x: 8 and y: 23\n"
     ]
    }
   ],
   "source": [
    "swap_variable(x,y)"
   ]
  },
  {
   "cell_type": "code",
   "execution_count": 20,
   "id": "3de1bfd0-35fa-4e18-9f73-accad434265d",
   "metadata": {},
   "outputs": [],
   "source": [
    "#Create a program that calculates the area of a rectangle. Take the length and width as inputs from the user and store them in variables. Calculate and display the area."
   ]
  },
  {
   "cell_type": "code",
   "execution_count": 5,
   "id": "09ababd4-cc8c-4295-bd2b-d3d802a1709a",
   "metadata": {},
   "outputs": [
    {
     "name": "stdin",
     "output_type": "stream",
     "text": [
      "Enter the length of a rectangle 4 \n",
      "Enter the width of a rectangle 84\n"
     ]
    },
    {
     "name": "stdout",
     "output_type": "stream",
     "text": [
      "The area of the rectangle with length 4.0 and width 84.0 is 336.0.\n"
     ]
    }
   ],
   "source": [
    "length = float(input(\"Enter the length of a rectangle\"))\n",
    "width = float(input(\"Enter the width of a rectangle\"))\n",
    "\n",
    "area = length * width\n",
    "\n",
    "print(f\"The area of the rectangle with length {length} and width {width} is {area}.\")"
   ]
  },
  {
   "cell_type": "code",
   "execution_count": 7,
   "id": "5c8851a2-8e7c-42aa-8d45-9f5ecb2f59cb",
   "metadata": {},
   "outputs": [],
   "source": [
    "#3. Write a Python program that converts temperatures from Celsius to Fahrenheit. Take the temperature in Celsius as input, store it in a variable,convert it to Fahrenheit, and display the result."
   ]
  },
  {
   "cell_type": "code",
   "execution_count": 10,
   "id": "74dd2555-8653-4aac-8d45-1ea178144271",
   "metadata": {},
   "outputs": [
    {
     "name": "stdin",
     "output_type": "stream",
     "text": [
      "Enter the temperature in celsius: 4\n"
     ]
    },
    {
     "name": "stdout",
     "output_type": "stream",
     "text": [
      "4.0 celsius is equal to 39.20 fahrenheit\n"
     ]
    }
   ],
   "source": [
    "celsius_temp = float(input(\"Enter the temperature in celsius:\"))\n",
    "\n",
    "fahrenheit_temp = celsius_temp * 9/5 + 32    \n",
    "\n",
    "print(f\"{celsius_temp} celsius is equal to {fahrenheit_temp:.2f} fahrenheit\")"
   ]
  },
  {
   "cell_type": "code",
   "execution_count": null,
   "id": "a3c18c92-e378-475d-aa20-70cfa38e55fc",
   "metadata": {},
   "outputs": [],
   "source": []
  },
  {
   "cell_type": "code",
   "execution_count": 1,
   "id": "027425d6-a69c-48bf-95c5-30f7a718a5c8",
   "metadata": {},
   "outputs": [],
   "source": [
    "# Write a Python program that takes a string as input and prints the length of the string."
   ]
  },
  {
   "cell_type": "code",
   "execution_count": 6,
   "id": "10158dcf-120c-4a8d-943c-829d36dc9b64",
   "metadata": {},
   "outputs": [
    {
     "name": "stdin",
     "output_type": "stream",
     "text": [
      "Enter a string:  Vishwas Singh\n"
     ]
    },
    {
     "name": "stdout",
     "output_type": "stream",
     "text": [
      "The length of the entered input string is : 13\n"
     ]
    }
   ],
   "source": [
    "input_string = input(\"Enter a string: \")\n",
    "\n",
    "input_string_length = len(input_string)\n",
    "\n",
    "print(\"The length of the entered input string is :\", input_string_length)"
   ]
  },
  {
   "cell_type": "code",
   "execution_count": null,
   "id": "4cacea0e-f19c-43f1-aa8c-cbcd7e7692b5",
   "metadata": {},
   "outputs": [],
   "source": []
  },
  {
   "cell_type": "code",
   "execution_count": 7,
   "id": "1ed90c0f-379c-44df-96e9-1c44f11a4f10",
   "metadata": {},
   "outputs": [],
   "source": [
    "#Create a program that takes a sentence from the user and counts the number of vowels (a, e, i, o, u) in the string."
   ]
  },
  {
   "cell_type": "code",
   "execution_count": 13,
   "id": "b596ef73-48de-4838-9893-d7a68ab2eb81",
   "metadata": {},
   "outputs": [
    {
     "name": "stdin",
     "output_type": "stream",
     "text": [
      "Enter a Sentence: Vishwas singh\n"
     ]
    },
    {
     "name": "stdout",
     "output_type": "stream",
     "text": [
      "The number of vowels in a sentence is:  3\n"
     ]
    }
   ],
   "source": [
    "sentence = input(\"Enter a Sentence:\")\n",
    "\n",
    "vowels_count = 0     # initialize a variable to keep a track of vowel count\n",
    "\n",
    "vowel = set(\"aeiouAEIOU\")  #define a set of vowels\n",
    "\n",
    "for char in sentence:\n",
    "    if char in vowel:\n",
    "        vowels_count += 1 \n",
    "        \n",
    "\n",
    "print(\"The number of vowels in a sentence is: \", vowels_count)\n",
    "    "
   ]
  },
  {
   "cell_type": "code",
   "execution_count": null,
   "id": "afddb0e3-7b52-455f-a916-92a47f449f8d",
   "metadata": {},
   "outputs": [],
   "source": []
  },
  {
   "cell_type": "code",
   "execution_count": 14,
   "id": "5b5ed4ad-310b-4699-95e5-95d573fbb2fc",
   "metadata": {},
   "outputs": [],
   "source": [
    "#Given a string, reverse the order of characters using string slicing and print the reversed string"
   ]
  },
  {
   "cell_type": "code",
   "execution_count": 1,
   "id": "38e14847-c3db-40af-83f6-5aefcb5c777c",
   "metadata": {},
   "outputs": [
    {
     "name": "stdin",
     "output_type": "stream",
     "text": [
      "Enter the string: fbsdiuf\n"
     ]
    },
    {
     "name": "stdout",
     "output_type": "stream",
     "text": [
      "Reversed string: fuidsbf\n"
     ]
    }
   ],
   "source": [
    "input_string = input(\"Enter the string:\")\n",
    "\n",
    "reversed_string = input_string[::-1]          #reversed the string using string slicing\n",
    "\n",
    "print(\"Reversed string:\" , reversed_string)\n"
   ]
  },
  {
   "cell_type": "code",
   "execution_count": null,
   "id": "42c333b3-56f3-45f5-9161-01b117b1a3dd",
   "metadata": {},
   "outputs": [],
   "source": []
  },
  {
   "cell_type": "code",
   "execution_count": null,
   "id": "f96e2fed-e8a6-4764-b05b-fdfdf800af9b",
   "metadata": {},
   "outputs": [],
   "source": [
    "#Write a program that takes a string as input and checks if it is a palindrome (reads the same forwards and backwards)."
   ]
  },
  {
   "cell_type": "code",
   "execution_count": 9,
   "id": "211cc61e-4818-4257-b90d-39a72e98454c",
   "metadata": {},
   "outputs": [
    {
     "name": "stdin",
     "output_type": "stream",
     "text": [
      "Enter a string: level;l\n"
     ]
    },
    {
     "name": "stdout",
     "output_type": "stream",
     "text": [
      "THe input string is not a palindrome\n"
     ]
    }
   ],
   "source": [
    "input_string = input(\"Enter a string:\")\n",
    "\n",
    "cleaned_string = input_string.replace(\" \",\"\").lower()\n",
    "\n",
    "if cleaned_string == cleaned_string[::-1]:\n",
    "    \n",
    "    print(\"The input string is a palindrome\")\n",
    "    \n",
    "else:\n",
    "    print(\"THe input string is not a palindrome\")"
   ]
  },
  {
   "cell_type": "code",
   "execution_count": null,
   "id": "1cb0a180-96fa-496c-a701-bd957969f9a1",
   "metadata": {},
   "outputs": [],
   "source": []
  },
  {
   "cell_type": "code",
   "execution_count": 8,
   "id": "4697c473-b016-4d8e-997f-a21a3214758a",
   "metadata": {},
   "outputs": [],
   "source": [
    "#Create a program that takes a string as input and removes all the spaces from it. Print the modified string without spaces."
   ]
  },
  {
   "cell_type": "code",
   "execution_count": 11,
   "id": "498d26df-93a1-4825-9d88-bc39912f4acc",
   "metadata": {},
   "outputs": [
    {
     "name": "stdin",
     "output_type": "stream",
     "text": [
      "Enter a string:  h ello\n"
     ]
    },
    {
     "name": "stdout",
     "output_type": "stream",
     "text": [
      "Modified string without spaces: hello\n"
     ]
    }
   ],
   "source": [
    "input_string = input(\"Enter a string: \")\n",
    "\n",
    "modified_string = \"\"\n",
    "\n",
    "for char in input_string:\n",
    "    \n",
    "    if char!= \" \":\n",
    "        \n",
    "        modified_string += char\n",
    "        \n",
    "print(\"Modified string without spaces:\" , modified_string)\n",
    "\n"
   ]
  },
  {
   "cell_type": "code",
   "execution_count": null,
   "id": "76c5e044-cee7-4959-9a42-2653859584f0",
   "metadata": {},
   "outputs": [],
   "source": []
  }
 ],
 "metadata": {
  "kernelspec": {
   "display_name": "Python 3 (ipykernel)",
   "language": "python",
   "name": "python3"
  },
  "language_info": {
   "codemirror_mode": {
    "name": "ipython",
    "version": 3
   },
   "file_extension": ".py",
   "mimetype": "text/x-python",
   "name": "python",
   "nbconvert_exporter": "python",
   "pygments_lexer": "ipython3",
   "version": "3.10.8"
  }
 },
 "nbformat": 4,
 "nbformat_minor": 5
}
